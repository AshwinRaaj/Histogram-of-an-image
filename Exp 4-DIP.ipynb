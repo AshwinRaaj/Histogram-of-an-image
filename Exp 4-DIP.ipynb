{
 "cells": [
  {
   "cell_type": "code",
   "execution_count": null,
   "id": "cb6bf31d",
   "metadata": {},
   "outputs": [],
   "source": [
    "import cv2\n",
    "import matplotlib.pyplot as plt\n",
    "\n",
    "gray=cv2.imread(\"is.jpg\",0)\n",
    "gray= cv2.resize(gray, (627,415))\n",
    "cv2.imshow('gray image',gray)\n",
    "\n",
    "color=cv2.imread(\"isa.jpg\",1)\n",
    "color= cv2.resize(color, (727,403))\n",
    "cv2.imshow('color image',color)\n",
    "\n",
    "cv2.waitKey(0)\n",
    "cv2.destroyAllWindows()"
   ]
  },
  {
   "cell_type": "code",
   "execution_count": null,
   "id": "f8a61c7e",
   "metadata": {},
   "outputs": [],
   "source": [
    "gray_hist=cv2.calcHist([gray],[0],None,[256],[0,255])\n",
    "color_hist=cv2.calcHist([color],[2],None,[256],[0,255])\n",
    "\n",
    "plt.figure()\n",
    "plt.title(\"gray image\")\n",
    "plt.xlabel(\"grayscale value\")\n",
    "plt.ylabel(\"pixel count\")\n",
    "plt.stem(gray_hist)\n",
    "plt.show()\n",
    "\n",
    "plt.figure()\n",
    "plt.title(\"color image\")\n",
    "plt.xlabel(\"colorscale value\")\n",
    "plt.ylabel(\"pixel count\")\n",
    "plt.stem(color_hist)\n",
    "plt.show()"
   ]
  },
  {
   "cell_type": "code",
   "execution_count": null,
   "id": "62a95a99",
   "metadata": {},
   "outputs": [],
   "source": [
    "gray_equalized=cv2.equalizeHist(gray)\n",
    "\n",
    "cv2.imshow('gray image',gray)\n",
    "cv2.imshow('equalized gray image',gray_equalized)\n",
    "cv2.waitKey(0)\n",
    "cv2.destroyAllWindows()"
   ]
  }
 ],
 "metadata": {
  "kernelspec": {
   "display_name": "Python 3 (ipykernel)",
   "language": "python",
   "name": "python3"
  },
  "language_info": {
   "codemirror_mode": {
    "name": "ipython",
    "version": 3
   },
   "file_extension": ".py",
   "mimetype": "text/x-python",
   "name": "python",
   "nbconvert_exporter": "python",
   "pygments_lexer": "ipython3",
   "version": "3.9.7"
  }
 },
 "nbformat": 4,
 "nbformat_minor": 5
}
